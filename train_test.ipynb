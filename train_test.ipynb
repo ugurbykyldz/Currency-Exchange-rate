{
 "cells": [
  {
   "cell_type": "code",
   "execution_count": 1,
   "metadata": {},
   "outputs": [],
   "source": [
    "from keras.models import Sequential\n",
    "from keras.layers import Dense, LSTM, Dropout\n",
    "from sklearn.preprocessing import MinMaxScaler\n",
    "from sklearn.metrics import mean_squared_error\n",
    "\n",
    "\n",
    "import numpy as np\n",
    "import pandas as pd\n",
    "import matplotlib.pyplot as plt\n",
    "np.random.seed(123)"
   ]
  },
  {
   "cell_type": "code",
   "execution_count": 2,
   "metadata": {},
   "outputs": [],
   "source": [
    "dataset = pd.read_csv(\"dataset/USDTRY.csv\")"
   ]
  },
  {
   "cell_type": "code",
   "execution_count": 5,
   "metadata": {},
   "outputs": [
    {
     "data": {
      "text/html": [
       "<div>\n",
       "<style scoped>\n",
       "    .dataframe tbody tr th:only-of-type {\n",
       "        vertical-align: middle;\n",
       "    }\n",
       "\n",
       "    .dataframe tbody tr th {\n",
       "        vertical-align: top;\n",
       "    }\n",
       "\n",
       "    .dataframe thead th {\n",
       "        text-align: right;\n",
       "    }\n",
       "</style>\n",
       "<table border=\"1\" class=\"dataframe\">\n",
       "  <thead>\n",
       "    <tr style=\"text-align: right;\">\n",
       "      <th></th>\n",
       "      <th>Date</th>\n",
       "      <th>Open</th>\n",
       "      <th>High</th>\n",
       "      <th>Low</th>\n",
       "      <th>Close</th>\n",
       "      <th>Adj Close</th>\n",
       "      <th>Volume</th>\n",
       "    </tr>\n",
       "  </thead>\n",
       "  <tbody>\n",
       "    <tr>\n",
       "      <th>0</th>\n",
       "      <td>2017-06-13</td>\n",
       "      <td>3.51560</td>\n",
       "      <td>3.53001</td>\n",
       "      <td>3.51054</td>\n",
       "      <td>3.51570</td>\n",
       "      <td>3.51570</td>\n",
       "      <td>0.0</td>\n",
       "    </tr>\n",
       "    <tr>\n",
       "      <th>1</th>\n",
       "      <td>2017-06-14</td>\n",
       "      <td>3.51741</td>\n",
       "      <td>3.52105</td>\n",
       "      <td>3.48030</td>\n",
       "      <td>3.51734</td>\n",
       "      <td>3.51734</td>\n",
       "      <td>0.0</td>\n",
       "    </tr>\n",
       "    <tr>\n",
       "      <th>2</th>\n",
       "      <td>2017-06-15</td>\n",
       "      <td>3.48695</td>\n",
       "      <td>3.52434</td>\n",
       "      <td>3.48365</td>\n",
       "      <td>3.48865</td>\n",
       "      <td>3.48865</td>\n",
       "      <td>0.0</td>\n",
       "    </tr>\n",
       "    <tr>\n",
       "      <th>3</th>\n",
       "      <td>2017-06-16</td>\n",
       "      <td>3.51263</td>\n",
       "      <td>3.53057</td>\n",
       "      <td>3.50440</td>\n",
       "      <td>3.51300</td>\n",
       "      <td>3.51300</td>\n",
       "      <td>0.0</td>\n",
       "    </tr>\n",
       "    <tr>\n",
       "      <th>4</th>\n",
       "      <td>2017-06-19</td>\n",
       "      <td>3.50062</td>\n",
       "      <td>3.52251</td>\n",
       "      <td>3.48830</td>\n",
       "      <td>3.50050</td>\n",
       "      <td>3.50050</td>\n",
       "      <td>0.0</td>\n",
       "    </tr>\n",
       "  </tbody>\n",
       "</table>\n",
       "</div>"
      ],
      "text/plain": [
       "         Date     Open     High      Low    Close  Adj Close  Volume\n",
       "0  2017-06-13  3.51560  3.53001  3.51054  3.51570    3.51570     0.0\n",
       "1  2017-06-14  3.51741  3.52105  3.48030  3.51734    3.51734     0.0\n",
       "2  2017-06-15  3.48695  3.52434  3.48365  3.48865    3.48865     0.0\n",
       "3  2017-06-16  3.51263  3.53057  3.50440  3.51300    3.51300     0.0\n",
       "4  2017-06-19  3.50062  3.52251  3.48830  3.50050    3.50050     0.0"
      ]
     },
     "execution_count": 5,
     "metadata": {},
     "output_type": "execute_result"
    }
   ],
   "source": [
    "dataset.head()"
   ]
  },
  {
   "cell_type": "code",
   "execution_count": 6,
   "metadata": {},
   "outputs": [
    {
     "data": {
      "text/html": [
       "<div>\n",
       "<style scoped>\n",
       "    .dataframe tbody tr th:only-of-type {\n",
       "        vertical-align: middle;\n",
       "    }\n",
       "\n",
       "    .dataframe tbody tr th {\n",
       "        vertical-align: top;\n",
       "    }\n",
       "\n",
       "    .dataframe thead th {\n",
       "        text-align: right;\n",
       "    }\n",
       "</style>\n",
       "<table border=\"1\" class=\"dataframe\">\n",
       "  <thead>\n",
       "    <tr style=\"text-align: right;\">\n",
       "      <th></th>\n",
       "      <th>Date</th>\n",
       "      <th>Open</th>\n",
       "      <th>High</th>\n",
       "      <th>Low</th>\n",
       "      <th>Close</th>\n",
       "      <th>Adj Close</th>\n",
       "      <th>Volume</th>\n",
       "    </tr>\n",
       "  </thead>\n",
       "  <tbody>\n",
       "    <tr>\n",
       "      <th>1039</th>\n",
       "      <td>2021-06-07</td>\n",
       "      <td>8.67320</td>\n",
       "      <td>8.68624</td>\n",
       "      <td>8.59679</td>\n",
       "      <td>8.67300</td>\n",
       "      <td>8.67300</td>\n",
       "      <td>0.0</td>\n",
       "    </tr>\n",
       "    <tr>\n",
       "      <th>1040</th>\n",
       "      <td>2021-06-08</td>\n",
       "      <td>8.59620</td>\n",
       "      <td>8.62988</td>\n",
       "      <td>8.58001</td>\n",
       "      <td>8.59715</td>\n",
       "      <td>8.59715</td>\n",
       "      <td>0.0</td>\n",
       "    </tr>\n",
       "    <tr>\n",
       "      <th>1041</th>\n",
       "      <td>2021-06-09</td>\n",
       "      <td>8.60154</td>\n",
       "      <td>8.61863</td>\n",
       "      <td>8.56720</td>\n",
       "      <td>8.59970</td>\n",
       "      <td>8.59970</td>\n",
       "      <td>0.0</td>\n",
       "    </tr>\n",
       "    <tr>\n",
       "      <th>1042</th>\n",
       "      <td>2021-06-10</td>\n",
       "      <td>8.58470</td>\n",
       "      <td>8.59220</td>\n",
       "      <td>8.41730</td>\n",
       "      <td>8.58230</td>\n",
       "      <td>8.58230</td>\n",
       "      <td>0.0</td>\n",
       "    </tr>\n",
       "    <tr>\n",
       "      <th>1043</th>\n",
       "      <td>2021-06-11</td>\n",
       "      <td>8.41520</td>\n",
       "      <td>8.44420</td>\n",
       "      <td>8.28400</td>\n",
       "      <td>8.42520</td>\n",
       "      <td>8.42520</td>\n",
       "      <td>0.0</td>\n",
       "    </tr>\n",
       "  </tbody>\n",
       "</table>\n",
       "</div>"
      ],
      "text/plain": [
       "            Date     Open     High      Low    Close  Adj Close  Volume\n",
       "1039  2021-06-07  8.67320  8.68624  8.59679  8.67300    8.67300     0.0\n",
       "1040  2021-06-08  8.59620  8.62988  8.58001  8.59715    8.59715     0.0\n",
       "1041  2021-06-09  8.60154  8.61863  8.56720  8.59970    8.59970     0.0\n",
       "1042  2021-06-10  8.58470  8.59220  8.41730  8.58230    8.58230     0.0\n",
       "1043  2021-06-11  8.41520  8.44420  8.28400  8.42520    8.42520     0.0"
      ]
     },
     "execution_count": 6,
     "metadata": {},
     "output_type": "execute_result"
    }
   ],
   "source": [
    "dataset.tail()"
   ]
  },
  {
   "cell_type": "code",
   "execution_count": 7,
   "metadata": {},
   "outputs": [
    {
     "name": "stdout",
     "output_type": "stream",
     "text": [
      "<class 'pandas.core.frame.DataFrame'>\n",
      "RangeIndex: 1044 entries, 0 to 1043\n",
      "Data columns (total 7 columns):\n",
      " #   Column     Non-Null Count  Dtype  \n",
      "---  ------     --------------  -----  \n",
      " 0   Date       1044 non-null   object \n",
      " 1   Open       1021 non-null   float64\n",
      " 2   High       1021 non-null   float64\n",
      " 3   Low        1021 non-null   float64\n",
      " 4   Close      1021 non-null   float64\n",
      " 5   Adj Close  1021 non-null   float64\n",
      " 6   Volume     1021 non-null   float64\n",
      "dtypes: float64(6), object(1)\n",
      "memory usage: 57.2+ KB\n"
     ]
    }
   ],
   "source": [
    "dataset.info()"
   ]
  },
  {
   "cell_type": "code",
   "execution_count": 8,
   "metadata": {},
   "outputs": [
    {
     "data": {
      "text/plain": [
       "Date          0\n",
       "Open         23\n",
       "High         23\n",
       "Low          23\n",
       "Close        23\n",
       "Adj Close    23\n",
       "Volume       23\n",
       "dtype: int64"
      ]
     },
     "execution_count": 8,
     "metadata": {},
     "output_type": "execute_result"
    }
   ],
   "source": [
    "dataset.isnull().sum()"
   ]
  },
  {
   "cell_type": "code",
   "execution_count": 9,
   "metadata": {},
   "outputs": [],
   "source": [
    "dataset = dataset.dropna(axis = 0)"
   ]
  },
  {
   "cell_type": "code",
   "execution_count": 10,
   "metadata": {},
   "outputs": [
    {
     "data": {
      "text/plain": [
       "Date         0\n",
       "Open         0\n",
       "High         0\n",
       "Low          0\n",
       "Close        0\n",
       "Adj Close    0\n",
       "Volume       0\n",
       "dtype: int64"
      ]
     },
     "execution_count": 10,
     "metadata": {},
     "output_type": "execute_result"
    }
   ],
   "source": [
    "dataset.isnull().sum()"
   ]
  },
  {
   "cell_type": "code",
   "execution_count": 11,
   "metadata": {},
   "outputs": [
    {
     "data": {
      "image/png": "[encoded data removed]",
      "text/plain": [
       "<Figure size 432x288 with 1 Axes>"
      ]
     },
     "metadata": {
      "needs_background": "light"
     },
     "output_type": "display_data"
    }
   ],
   "source": [
    "plt.figure()\n",
    "plt.plot(dataset[\"Open\"].values, color = \"green\" , label =\"Open\")\n",
    "#plt.plot(dataset[\"Close\"].values, color = \"red\", label =\"Close\" ,alpha = 0.3)\n",
    "plt.legend()\n",
    "plt.grid()\n",
    "plt.show()"
   ]
  },
  {
   "cell_type": "code",
   "execution_count": 12,
   "metadata": {},
   "outputs": [
    {
     "data": {
      "text/plain": [
       "(1021, 1)"
      ]
     },
     "execution_count": 12,
     "metadata": {},
     "output_type": "execute_result"
    }
   ],
   "source": [
    "data = dataset[\"Open\"].values.reshape(-1,1)\n",
    "data.shape"
   ]
  },
  {
   "cell_type": "code",
   "execution_count": 13,
   "metadata": {},
   "outputs": [
    {
     "data": {
      "text/plain": [
       "array([[0.02067612],\n",
       "       [0.02101758],\n",
       "       [0.01527128],\n",
       "       [0.02011583],\n",
       "       [0.01785014]])"
      ]
     },
     "execution_count": 13,
     "metadata": {},
     "output_type": "execute_result"
    }
   ],
   "source": [
    "#preproces\n",
    "scaler = MinMaxScaler(feature_range=(0,1))\n",
    "data_scale = scaler.fit_transform(data)\n",
    "data_scale[:5]"
   ]
  },
  {
   "cell_type": "code",
   "execution_count": 14,
   "metadata": {},
   "outputs": [
    {
     "name": "stdout",
     "output_type": "stream",
     "text": [
      "Train size : 816 - Test size : 205\n"
     ]
    }
   ],
   "source": [
    "#trasn test size\n",
    "cut_off = int(len(data) * 0.8)\n",
    "train = data_scale[:cut_off]\n",
    "test = data_scale[cut_off:]\n",
    "print(\"Train size : {} - Test size : {}\".format(train.shape[0], test.shape[0]))"
   ]
  },
  {
   "cell_type": "code",
   "execution_count": 15,
   "metadata": {},
   "outputs": [],
   "source": [
    "time_step = 50\n",
    "output_size = 1\n",
    "def x_y_preproces(datax):\n",
    "    \n",
    "    x = []\n",
    "    y = []\n",
    "    \n",
    "    for i in range(len(datax) - time_step - output_size):\n",
    "                          # i : i+20         , 0\n",
    "        train_data = datax[i:(i + time_step), 0]\n",
    "                            # i + 20\n",
    "        train_label  = datax[ i + time_step , 0]\n",
    "        \n",
    "        x.append(train_data)\n",
    "        y.append(train_label)\n",
    "      \n",
    "    x = np.array(x)\n",
    "    y = np.array(y)\n",
    "    \n",
    "    return x , y "
   ]
  },
  {
   "cell_type": "code",
   "execution_count": 16,
   "metadata": {},
   "outputs": [
    {
     "name": "stdout",
     "output_type": "stream",
     "text": [
      "x train : (765, 50)\n",
      "y train : (765,)\n",
      "x test : (154, 50)\n",
      "y test : (154,)\n"
     ]
    }
   ],
   "source": [
    "x_train, y_train = x_y_preproces(train)\n",
    "x_test, y_test = x_y_preproces(test)\n",
    "print(\"x train :\", x_train.shape)\n",
    "print(\"y train :\", y_train.shape)\n",
    "print(\"x test :\",x_test.shape)\n",
    "print(\"y test :\",y_test.shape)"
   ]
  },
  {
   "cell_type": "code",
   "execution_count": 17,
   "metadata": {},
   "outputs": [
    {
     "name": "stdout",
     "output_type": "stream",
     "text": [
      "x train : (765, 1, 50)\n",
      "x test : (154, 1, 50)\n"
     ]
    }
   ],
   "source": [
    "#reshape (rows , timesteps = 1, cloumns)\n",
    "x_train = np.reshape(x_train, (x_train.shape[0], 1, x_train.shape[1]))\n",
    "x_test = np.reshape(x_test , (x_test.shape[0], 1, x_test.shape[1]))\n",
    "print(\"x train :\", x_train.shape)\n",
    "print(\"x test :\", x_test.shape)"
   ]
  },
  {
   "cell_type": "code",
   "execution_count": 18,
   "metadata": {},
   "outputs": [],
   "source": [
    "#model LSTM\n",
    "\n",
    "model = Sequential()\n",
    "model.add(LSTM(16 , input_shape = (1 , x_train.shape[2]), return_sequences = True))\n",
    "model.add(LSTM(8, return_sequences = False))\n",
    "model.add(Dropout(0.25))\n",
    "model.add(Dense(4))\n",
    "model.add(Dense(output_size))\n",
    "\n",
    "hist = model.compile(loss = \"mean_squared_error\", optimizer = \"adam\")"
   ]
  },
  {
   "cell_type": "code",
   "execution_count": 144,
   "metadata": {},
   "outputs": [
    {
     "name": "stdout",
     "output_type": "stream",
     "text": [
      "Epoch 1/75\n",
      "765/765 [==============================] - 4s 1ms/step - loss: 0.0291\n",
      "Epoch 2/75\n",
      "765/765 [==============================] - 1s 1ms/step - loss: 0.0057\n",
      "Epoch 3/75\n",
      "765/765 [==============================] - 1s 1ms/step - loss: 0.0037\n",
      "Epoch 4/75\n",
      "765/765 [==============================] - 1s 1ms/step - loss: 0.0028\n",
      "Epoch 5/75\n",
      "765/765 [==============================] - 1s 1ms/step - loss: 0.0032\n",
      "Epoch 6/75\n",
      "765/765 [==============================] - 1s 1ms/step - loss: 0.0026\n",
      "Epoch 7/75\n",
      "765/765 [==============================] - 1s 1ms/step - loss: 0.0027\n",
      "Epoch 8/75\n",
      "765/765 [==============================] - 1s 1ms/step - loss: 0.0023\n",
      "Epoch 9/75\n",
      "765/765 [==============================] - 1s 2ms/step - loss: 0.0027\n",
      "Epoch 10/75\n",
      "765/765 [==============================] - 1s 1ms/step - loss: 0.0022\n",
      "Epoch 11/75\n",
      "765/765 [==============================] - 1s 1ms/step - loss: 0.0023\n",
      "Epoch 12/75\n",
      "765/765 [==============================] - 1s 1ms/step - loss: 0.0025\n",
      "Epoch 13/75\n",
      "765/765 [==============================] - 1s 1ms/step - loss: 0.0022\n",
      "Epoch 14/75\n",
      "765/765 [==============================] - 1s 1ms/step - loss: 0.0027\n",
      "Epoch 15/75\n",
      "765/765 [==============================] - 1s 1ms/step - loss: 0.0025\n",
      "Epoch 16/75\n",
      "765/765 [==============================] - 1s 1ms/step - loss: 0.0025\n",
      "Epoch 17/75\n",
      "765/765 [==============================] - 1s 1ms/step - loss: 0.0025\n",
      "Epoch 18/75\n",
      "765/765 [==============================] - 1s 1ms/step - loss: 0.0027\n",
      "Epoch 19/75\n",
      "765/765 [==============================] - 1s 1ms/step - loss: 0.0027\n",
      "Epoch 20/75\n",
      "765/765 [==============================] - 1s 2ms/step - loss: 0.0023\n",
      "Epoch 21/75\n",
      "765/765 [==============================] - 1s 1ms/step - loss: 0.0020\n",
      "Epoch 22/75\n",
      "765/765 [==============================] - 1s 2ms/step - loss: 0.0020\n",
      "Epoch 23/75\n",
      "765/765 [==============================] - 1s 1ms/step - loss: 0.0024\n",
      "Epoch 24/75\n",
      "765/765 [==============================] - 1s 1ms/step - loss: 0.0020\n",
      "Epoch 25/75\n",
      "765/765 [==============================] - 1s 1ms/step - loss: 0.0023\n",
      "Epoch 26/75\n",
      "765/765 [==============================] - 1s 1ms/step - loss: 0.0024\n",
      "Epoch 27/75\n",
      "765/765 [==============================] - 1s 1ms/step - loss: 0.0027\n",
      "Epoch 28/75\n",
      "765/765 [==============================] - 1s 1ms/step - loss: 0.0022\n",
      "Epoch 29/75\n",
      "765/765 [==============================] - 1s 1ms/step - loss: 0.0023\n",
      "Epoch 30/75\n",
      "765/765 [==============================] - 1s 1ms/step - loss: 0.0024\n",
      "Epoch 31/75\n",
      "765/765 [==============================] - 1s 1ms/step - loss: 0.0025\n",
      "Epoch 32/75\n",
      "765/765 [==============================] - ETA: 0s - loss: 0.002 - 1s 1ms/step - loss: 0.0029\n",
      "Epoch 33/75\n",
      "765/765 [==============================] - 1s 1ms/step - loss: 0.0026\n",
      "Epoch 34/75\n",
      "765/765 [==============================] - 1s 1ms/step - loss: 0.0024\n",
      "Epoch 35/75\n",
      "765/765 [==============================] - 1s 1ms/step - loss: 0.0026\n",
      "Epoch 36/75\n",
      "765/765 [==============================] - 1s 1ms/step - loss: 0.0019\n",
      "Epoch 37/75\n",
      "765/765 [==============================] - 1s 1ms/step - loss: 0.0023\n",
      "Epoch 38/75\n",
      "765/765 [==============================] - 1s 2ms/step - loss: 0.0019\n",
      "Epoch 39/75\n",
      "765/765 [==============================] - 2s 2ms/step - loss: 0.0028\n",
      "Epoch 40/75\n",
      "765/765 [==============================] - 1s 2ms/step - loss: 0.0023\n",
      "Epoch 41/75\n",
      "765/765 [==============================] - 1s 2ms/step - loss: 0.0029\n",
      "Epoch 42/75\n",
      "765/765 [==============================] - 1s 2ms/step - loss: 0.0021\n",
      "Epoch 43/75\n",
      "765/765 [==============================] - 1s 2ms/step - loss: 0.0023\n",
      "Epoch 44/75\n",
      "765/765 [==============================] - 1s 1ms/step - loss: 0.0026\n",
      "Epoch 45/75\n",
      "765/765 [==============================] - 1s 1ms/step - loss: 0.0020\n",
      "Epoch 46/75\n",
      "765/765 [==============================] - 1s 1ms/step - loss: 0.0019\n",
      "Epoch 47/75\n",
      "765/765 [==============================] - 1s 1ms/step - loss: 0.0021\n",
      "Epoch 48/75\n",
      "765/765 [==============================] - 1s 2ms/step - loss: 0.0023\n",
      "Epoch 49/75\n",
      "765/765 [==============================] - 1s 2ms/step - loss: 0.0023\n",
      "Epoch 50/75\n",
      "765/765 [==============================] - 1s 2ms/step - loss: 0.0026\n",
      "Epoch 51/75\n",
      "765/765 [==============================] - 1s 2ms/step - loss: 0.0020\n",
      "Epoch 52/75\n",
      "765/765 [==============================] - 1s 2ms/step - loss: 0.0025\n",
      "Epoch 53/75\n",
      "765/765 [==============================] - 1s 2ms/step - loss: 0.0026\n",
      "Epoch 54/75\n",
      "765/765 [==============================] - 1s 2ms/step - loss: 0.0023\n",
      "Epoch 55/75\n",
      "765/765 [==============================] - 2s 2ms/step - loss: 0.0022\n",
      "Epoch 56/75\n",
      "765/765 [==============================] - 2s 2ms/step - loss: 0.0023\n",
      "Epoch 57/75\n",
      "765/765 [==============================] - 1s 2ms/step - loss: 0.0023\n",
      "Epoch 58/75\n",
      "765/765 [==============================] - 2s 2ms/step - loss: 0.0024\n",
      "Epoch 59/75\n",
      "765/765 [==============================] - 2s 2ms/step - loss: 0.0021\n",
      "Epoch 60/75\n",
      "765/765 [==============================] - 1s 2ms/step - loss: 0.0025\n",
      "Epoch 61/75\n",
      "765/765 [==============================] - 1s 2ms/step - loss: 0.0020\n",
      "Epoch 62/75\n",
      "765/765 [==============================] - 1s 2ms/step - loss: 0.0022\n",
      "Epoch 63/75\n",
      "765/765 [==============================] - 1s 1ms/step - loss: 0.0021\n",
      "Epoch 64/75\n",
      "765/765 [==============================] - 1s 2ms/step - loss: 0.0022\n",
      "Epoch 65/75\n",
      "765/765 [==============================] - 1s 2ms/step - loss: 0.0021\n",
      "Epoch 66/75\n",
      "765/765 [==============================] - 1s 1ms/step - loss: 0.0018\n",
      "Epoch 67/75\n",
      "765/765 [==============================] - 1s 1ms/step - loss: 0.0028\n",
      "Epoch 68/75\n",
      "765/765 [==============================] - 1s 1ms/step - loss: 0.0021\n",
      "Epoch 69/75\n",
      "765/765 [==============================] - 1s 1ms/step - loss: 0.0028\n",
      "Epoch 70/75\n",
      "765/765 [==============================] - 1s 1ms/step - loss: 0.0026\n",
      "Epoch 71/75\n",
      "765/765 [==============================] - 1s 1ms/step - loss: 0.0020A:\n",
      "Epoch 72/75\n",
      "765/765 [==============================] - 1s 1ms/step - loss: 0.0024\n",
      "Epoch 73/75\n",
      "765/765 [==============================] - 1s 2ms/step - loss: 0.0022\n",
      "Epoch 74/75\n",
      "765/765 [==============================] - 1s 2ms/step - loss: 0.0021\n",
      "Epoch 75/75\n",
      "765/765 [==============================] - 1s 2ms/step - loss: 0.0022\n"
     ]
    },
    {
     "data": {
      "text/plain": [
       "<keras.callbacks.History at 0x1f71a6e75b0>"
      ]
     },
     "execution_count": 144,
     "metadata": {},
     "output_type": "execute_result"
    }
   ],
   "source": [
    "#train\n",
    "epochs = 75\n",
    "batch_size = 1\n",
    "model.fit(x_train , y_train, epochs = epochs , batch_size = batch_size )"
   ]
  },
  {
   "cell_type": "code",
   "execution_count": 157,
   "metadata": {},
   "outputs": [],
   "source": [
    "model.save(\"model_weight.h5\")\n",
    "model.load_weights(\"model_weight.h5\")"
   ]
  },
  {
   "cell_type": "code",
   "execution_count": 19,
   "metadata": {},
   "outputs": [
    {
     "name": "stdout",
     "output_type": "stream",
     "text": [
      "5/5 [==============================] - 13s 1ms/step - loss: 0.0049\n"
     ]
    }
   ],
   "source": [
    "#evulation\n",
    "result = model.evaluate(x_test , y_test)"
   ]
  },
  {
   "cell_type": "code",
   "execution_count": 20,
   "metadata": {},
   "outputs": [],
   "source": [
    "#invert pred\n",
    "x_data,y_data = x_y_preproces(data)\n",
    "x_data = np.reshape(x_data, (x_data.shape[0], 1, x_data.shape[1]))\n",
    "\n",
    "x_data_pred = model.predict(x_data)\n",
    "train_pred = scaler.inverse_transform(x_data_pred)"
   ]
  },
  {
   "cell_type": "code",
   "execution_count": 23,
   "metadata": {},
   "outputs": [
    {
     "data": {
      "text/plain": [
       "array([8.59053  , 8.59053  , 8.59053  , 8.590529 , 8.590529 , 8.59053  ,\n",
       "       8.59053  , 8.59053  , 8.5905285, 8.5905285, 8.5905285, 8.590528 ,\n",
       "       8.590527 , 8.590526 , 8.590525 , 8.590525 , 8.590524 , 8.590525 ,\n",
       "       8.590523 , 8.590523 , 8.590521 , 8.590521 , 8.590521 , 8.590523 ,\n",
       "       8.590524 , 8.590525 , 8.590526 , 8.590528 , 8.590528 , 8.5905285,\n",
       "       8.5905285, 8.59053  , 8.59053  , 8.590531 , 8.590532 , 8.590531 ,\n",
       "       8.59053  , 8.59053  , 8.590531 , 8.590531 , 8.59053  , 8.59053  ,\n",
       "       8.5905285, 8.590531 , 8.590532 , 8.590532 , 8.590532 , 8.590533 ,\n",
       "       8.590534 , 8.590534 , 8.590534 , 8.590534 , 8.590534 , 8.590533 ,\n",
       "       8.590533 , 8.590533 , 8.590534 , 8.590534 , 8.590534 , 8.590534 ,\n",
       "       8.590533 , 8.590534 , 8.590534 , 8.590533 , 8.590533 , 8.590533 ,\n",
       "       8.590533 , 8.590534 , 8.590534 , 8.590534 , 8.590533 , 8.590533 ,\n",
       "       8.590533 , 8.590534 , 8.590534 , 8.590534 , 8.590534 , 8.590534 ,\n",
       "       8.590534 , 8.590535 , 8.590535 , 8.590535 , 8.590535 , 8.590535 ,\n",
       "       8.590535 , 8.590535 , 8.590535 , 8.590535 , 8.590535 , 8.590535 ,\n",
       "       8.590536 , 8.590536 , 8.590536 , 8.590536 , 8.590536 , 8.590536 ,\n",
       "       8.590536 , 8.590536 , 8.590536 , 8.590536 ], dtype=float32)"
      ]
     },
     "execution_count": 23,
     "metadata": {},
     "output_type": "execute_result"
    }
   ],
   "source": [
    "last_100_days = train_pred[-100:,0]\n",
    "last_100_days"
   ]
  },
  {
   "cell_type": "code",
   "execution_count": 24,
   "metadata": {},
   "outputs": [
    {
     "data": {
      "image/png": "[encoded data removed]",
      "text/plain": [
       "<Figure size 432x288 with 1 Axes>"
      ]
     },
     "metadata": {
      "needs_background": "light"
     },
     "output_type": "display_data"
    }
   ],
   "source": [
    "plt.figure()\n",
    "plt.plot(last_15_days, color = \"red\", label =\"Last 100 Days\" ,alpha = 0.5)\n",
    "plt.xlabel(\"Time\")\n",
    "plt.ylabel(\"USD-TRY\")\n",
    "plt.legend()\n",
    "plt.grid()\n",
    "plt.show()"
   ]
  },
  {
   "cell_type": "code",
   "execution_count": null,
   "metadata": {},
   "outputs": [],
   "source": []
  }
 ],
 "metadata": {
  "kernelspec": {
   "display_name": "Python 3",
   "language": "python",
   "name": "python3"
  },
  "language_info": {
   "codemirror_mode": {
    "name": "ipython",
    "version": 3
   },
   "file_extension": ".py",
   "mimetype": "text/x-python",
   "name": "python",
   "nbconvert_exporter": "python",
   "pygments_lexer": "ipython3",
   "version": "3.8.5"
  }
 },
 "nbformat": 4,
 "nbformat_minor": 4
}
